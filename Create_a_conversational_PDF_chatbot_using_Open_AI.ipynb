{
  "nbformat": 4,
  "nbformat_minor": 0,
  "metadata": {
    "colab": {
      "provenance": []
    },
    "kernelspec": {
      "name": "python3",
      "display_name": "Python 3"
    },
    "language_info": {
      "name": "python"
    }
  },
  "cells": [
    {
      "cell_type": "markdown",
      "source": [
        "**Break down the process into the following sections:**\n",
        "\n",
        "1. Setting up the environment\n",
        "\n",
        "2. Creating the FastAPI application\n",
        "\n",
        "3. Integrating PDF processing\n",
        "\n",
        "4. Integrating LLM APIs\n",
        "\n",
        "5. Implementing Retrieval-Augmented Generation (RAG)\n",
        "\n",
        "6. Creating API endpoints\n",
        "\n",
        "7. Adding unit tests\n",
        "\n",
        "\n"
      ],
      "metadata": {
        "id": "NNOmTwqcuEqo"
      }
    },
    {
      "cell_type": "markdown",
      "source": [
        "1. Setting up the environment"
      ],
      "metadata": {
        "id": "uOseAOmhuZSJ"
      }
    },
    {
      "cell_type": "code",
      "execution_count": null,
      "metadata": {
        "id": "ElcA3t3mtnqV"
      },
      "outputs": [],
      "source": [
        "python -m venv venv\n",
        "source venv/bin/activate  # On Windows, use `venv\\Scripts\\activate`\n",
        "pip install fastapi uvicorn pydantic requests PyPDF2\n"
      ]
    },
    {
      "cell_type": "markdown",
      "source": [
        "2. Creating the FastAPI application"
      ],
      "metadata": {
        "id": "2C_pAX1Guc6q"
      }
    },
    {
      "cell_type": "code",
      "source": [
        "from fastapi import FastAPI, UploadFile, File, HTTPException\n",
        "from fastapi.responses import JSONResponse\n",
        "from pydantic import BaseModel\n",
        "import PyPDF2\n",
        "import requests\n",
        "\n",
        "app = FastAPI()\n",
        "\n",
        "# Placeholder for the LLM API key and endpoint\n",
        "OPENAI_API_KEY = \"your_openai_api_key\"\n",
        "OPENAI_API_ENDPOINT = \"https://api.openai.com/v1/engines/davinci-codex/completions\"\n"
      ],
      "metadata": {
        "id": "RDtH0SRvtuDx"
      },
      "execution_count": null,
      "outputs": []
    },
    {
      "cell_type": "markdown",
      "source": [
        "3. Integrating PDF processing"
      ],
      "metadata": {
        "id": "dfDmJofEuf18"
      }
    },
    {
      "cell_type": "code",
      "source": [
        "def extract_text_from_pdf(pdf_file):\n",
        "    reader = PyPDF2.PdfFileReader(pdf_file)\n",
        "    text = \"\"\n",
        "    for page_num in range(reader.numPages):\n",
        "        page = reader.getPage(page_num)\n",
        "        text += page.extract_text()\n",
        "    return text\n"
      ],
      "metadata": {
        "id": "d3o_VxKxtuGa"
      },
      "execution_count": null,
      "outputs": []
    },
    {
      "cell_type": "markdown",
      "source": [
        "4. Integrating LLM APIs"
      ],
      "metadata": {
        "id": "embHXg9sujQ2"
      }
    },
    {
      "cell_type": "code",
      "source": [
        "def query_openai_api(prompt):\n",
        "    headers = {\n",
        "        \"Authorization\": f\"Bearer {OPENAI_API_KEY}\",\n",
        "        \"Content-Type\": \"application/json\"\n",
        "    }\n",
        "    data = {\n",
        "        \"prompt\": prompt,\n",
        "        \"max_tokens\": 150,\n",
        "    }\n",
        "    response = requests.post(OPENAI_API_ENDPOINT, headers=headers, json=data)\n",
        "    if response.status_code == 200:\n",
        "        return response.json()[\"choices\"][0][\"text\"].strip()\n",
        "    else:\n",
        "        raise HTTPException(status_code=response.status_code, detail=response.text)\n"
      ],
      "metadata": {
        "id": "M-Avq1OEtuJT"
      },
      "execution_count": null,
      "outputs": []
    },
    {
      "cell_type": "markdown",
      "source": [
        "5. Implementing Retrieval-Augmented Generation (RAG)"
      ],
      "metadata": {
        "id": "WV-2Cjr6umvs"
      }
    },
    {
      "cell_type": "code",
      "source": [
        "def generate_response_with_rag(pdf_text, user_query):\n",
        "    # Combine PDF content and user query\n",
        "    prompt = f\"Context: {pdf_text}\\n\\nQuery: {user_query}\\n\\nAnswer:\"\n",
        "    response = query_openai_api(prompt)\n",
        "    return response\n"
      ],
      "metadata": {
        "id": "BiaIwtG7t2L8"
      },
      "execution_count": null,
      "outputs": []
    },
    {
      "cell_type": "markdown",
      "source": [
        "6. Creating API endpoints"
      ],
      "metadata": {
        "id": "IkzA7y3uupMq"
      }
    },
    {
      "cell_type": "code",
      "source": [
        "@app.post(\"/upload_pdf/\")\n",
        "async def upload_pdf(file: UploadFile = File(...)):\n",
        "    try:\n",
        "        contents = await file.read()\n",
        "        text = extract_text_from_pdf(contents)\n",
        "        return JSONResponse(content={\"message\": \"PDF processed successfully\", \"pdf_text\": text})\n",
        "    except Exception as e:\n",
        "        raise HTTPException(status_code=400, detail=str(e))\n",
        "\n",
        "class QueryModel(BaseModel):\n",
        "    query: str\n",
        "    pdf_text: str\n",
        "\n",
        "@app.post(\"/chat_with_pdf/\")\n",
        "async def chat_with_pdf(query: QueryModel):\n",
        "    try:\n",
        "        response = generate_response_with_rag(query.pdf_text, query.query)\n",
        "        return JSONResponse(content={\"response\": response})\n",
        "    except Exception as e:\n",
        "        raise HTTPException(status_code=400, detail=str(e))\n"
      ],
      "metadata": {
        "id": "nz9hWa0Jt2Od"
      },
      "execution_count": null,
      "outputs": []
    },
    {
      "cell_type": "markdown",
      "source": [
        "7. Adding unit tests"
      ],
      "metadata": {
        "id": "UZ_km7UXuqWk"
      }
    },
    {
      "cell_type": "code",
      "source": [
        "from fastapi.testclient import TestClient\n",
        "from app import app\n",
        "\n",
        "client = TestClient(app)\n",
        "\n",
        "def test_upload_pdf():\n",
        "    with open(\"sample.pdf\", \"rb\") as file:\n",
        "        response = client.post(\"/upload_pdf/\", files={\"file\": file})\n",
        "        assert response.status_code == 200\n",
        "        assert \"pdf_text\" in response.json()\n",
        "\n",
        "def test_chat_with_pdf():\n",
        "    pdf_text = \"This is a sample PDF content.\"\n",
        "    query = \"What is this PDF about?\"\n",
        "    response = client.post(\"/chat_with_pdf/\", json={\"query\": query, \"pdf_text\": pdf_text})\n",
        "    assert response.status_code == 200\n",
        "    assert \"response\" in response.json()\n"
      ],
      "metadata": {
        "id": "pUSKEvVOt2RR"
      },
      "execution_count": null,
      "outputs": []
    }
  ]
}